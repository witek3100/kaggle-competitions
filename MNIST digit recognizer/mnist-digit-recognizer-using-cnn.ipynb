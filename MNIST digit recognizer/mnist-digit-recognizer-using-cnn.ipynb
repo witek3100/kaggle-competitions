{
 "cells": [
  {
   "cell_type": "markdown",
   "id": "1322e313",
   "metadata": {
    "papermill": {
     "duration": 0.007607,
     "end_time": "2023-08-29T13:12:24.792569",
     "exception": false,
     "start_time": "2023-08-29T13:12:24.784962",
     "status": "completed"
    },
    "tags": []
   },
   "source": [
    "### Importing necessary libraries"
   ]
  },
  {
   "cell_type": "code",
   "execution_count": 1,
   "id": "93b66a42",
   "metadata": {
    "execution": {
     "iopub.execute_input": "2023-08-29T13:12:24.809419Z",
     "iopub.status.busy": "2023-08-29T13:12:24.808875Z",
     "iopub.status.idle": "2023-08-29T13:12:35.135805Z",
     "shell.execute_reply": "2023-08-29T13:12:35.134495Z"
    },
    "papermill": {
     "duration": 10.338698,
     "end_time": "2023-08-29T13:12:35.138663",
     "exception": false,
     "start_time": "2023-08-29T13:12:24.799965",
     "status": "completed"
    },
    "tags": []
   },
   "outputs": [
    {
     "name": "stderr",
     "output_type": "stream",
     "text": [
      "/opt/conda/lib/python3.10/site-packages/scipy/__init__.py:146: UserWarning: A NumPy version >=1.16.5 and <1.23.0 is required for this version of SciPy (detected version 1.23.5\n",
      "  warnings.warn(f\"A NumPy version >={np_minversion} and <{np_maxversion}\"\n",
      "/opt/conda/lib/python3.10/site-packages/tensorflow_io/python/ops/__init__.py:98: UserWarning: unable to load libtensorflow_io_plugins.so: unable to open file: libtensorflow_io_plugins.so, from paths: ['/opt/conda/lib/python3.10/site-packages/tensorflow_io/python/ops/libtensorflow_io_plugins.so']\n",
      "caused by: ['/opt/conda/lib/python3.10/site-packages/tensorflow_io/python/ops/libtensorflow_io_plugins.so: undefined symbol: _ZN3tsl6StatusC1EN10tensorflow5error4CodeESt17basic_string_viewIcSt11char_traitsIcEENS_14SourceLocationE']\n",
      "  warnings.warn(f\"unable to load libtensorflow_io_plugins.so: {e}\")\n",
      "/opt/conda/lib/python3.10/site-packages/tensorflow_io/python/ops/__init__.py:104: UserWarning: file system plugins are not loaded: unable to open file: libtensorflow_io.so, from paths: ['/opt/conda/lib/python3.10/site-packages/tensorflow_io/python/ops/libtensorflow_io.so']\n",
      "caused by: ['/opt/conda/lib/python3.10/site-packages/tensorflow_io/python/ops/libtensorflow_io.so: undefined symbol: _ZTVN10tensorflow13GcsFileSystemE']\n",
      "  warnings.warn(f\"file system plugins are not loaded: {e}\")\n"
     ]
    }
   ],
   "source": [
    "import tensorflow as tf\n",
    "import numpy as np \n",
    "import pandas as pd\n",
    "import keras\n",
    "import matplotlib.pyplot as plt\n",
    "from sklearn.model_selection import train_test_split\n",
    "from tensorflow.keras.callbacks import EarlyStopping\n",
    "from keras.preprocessing.image import ImageDataGenerator\n",
    "from tensorflow.keras.callbacks import LearningRateScheduler"
   ]
  },
  {
   "cell_type": "markdown",
   "id": "ccf28cca",
   "metadata": {
    "papermill": {
     "duration": 0.007112,
     "end_time": "2023-08-29T13:12:35.154305",
     "exception": false,
     "start_time": "2023-08-29T13:12:35.147193",
     "status": "completed"
    },
    "tags": []
   },
   "source": [
    "### Loading data"
   ]
  },
  {
   "cell_type": "code",
   "execution_count": 2,
   "id": "455201e0",
   "metadata": {
    "execution": {
     "iopub.execute_input": "2023-08-29T13:12:35.171530Z",
     "iopub.status.busy": "2023-08-29T13:12:35.170728Z",
     "iopub.status.idle": "2023-08-29T13:12:41.921712Z",
     "shell.execute_reply": "2023-08-29T13:12:41.920572Z"
    },
    "papermill": {
     "duration": 6.762843,
     "end_time": "2023-08-29T13:12:41.924650",
     "exception": false,
     "start_time": "2023-08-29T13:12:35.161807",
     "status": "completed"
    },
    "tags": []
   },
   "outputs": [],
   "source": [
    "df_train = pd.read_csv('/kaggle/input/digit-recognizer/train.csv')\n",
    "df_test = pd.read_csv('/kaggle/input/digit-recognizer/test.csv')"
   ]
  },
  {
   "cell_type": "markdown",
   "id": "170a3a7a",
   "metadata": {
    "papermill": {
     "duration": 0.008839,
     "end_time": "2023-08-29T13:12:41.940955",
     "exception": false,
     "start_time": "2023-08-29T13:12:41.932116",
     "status": "completed"
    },
    "tags": []
   },
   "source": [
    "### Preprocessing"
   ]
  },
  {
   "cell_type": "markdown",
   "id": "0c9411c7",
   "metadata": {
    "papermill": {
     "duration": 0.007042,
     "end_time": "2023-08-29T13:12:41.955359",
     "exception": false,
     "start_time": "2023-08-29T13:12:41.948317",
     "status": "completed"
    },
    "tags": []
   },
   "source": [
    "#### Splitting train set to images and labels"
   ]
  },
  {
   "cell_type": "code",
   "execution_count": 3,
   "id": "33059515",
   "metadata": {
    "execution": {
     "iopub.execute_input": "2023-08-29T13:12:41.972250Z",
     "iopub.status.busy": "2023-08-29T13:12:41.971510Z",
     "iopub.status.idle": "2023-08-29T13:12:41.980914Z",
     "shell.execute_reply": "2023-08-29T13:12:41.979802Z"
    },
    "papermill": {
     "duration": 0.020568,
     "end_time": "2023-08-29T13:12:41.983452",
     "exception": false,
     "start_time": "2023-08-29T13:12:41.962884",
     "status": "completed"
    },
    "tags": []
   },
   "outputs": [],
   "source": [
    "train_labels = df_train['label'].values\n",
    "train_data = df_train.values[:, 1:]"
   ]
  },
  {
   "cell_type": "code",
   "execution_count": 4,
   "id": "da91d5f5",
   "metadata": {
    "execution": {
     "iopub.execute_input": "2023-08-29T13:12:42.000121Z",
     "iopub.status.busy": "2023-08-29T13:12:41.999675Z",
     "iopub.status.idle": "2023-08-29T13:12:42.007135Z",
     "shell.execute_reply": "2023-08-29T13:12:42.006216Z"
    },
    "papermill": {
     "duration": 0.018767,
     "end_time": "2023-08-29T13:12:42.009651",
     "exception": false,
     "start_time": "2023-08-29T13:12:41.990884",
     "status": "completed"
    },
    "tags": []
   },
   "outputs": [
    {
     "data": {
      "text/plain": [
       "42000"
      ]
     },
     "execution_count": 4,
     "metadata": {},
     "output_type": "execute_result"
    }
   ],
   "source": [
    "len(train_labels)"
   ]
  },
  {
   "cell_type": "markdown",
   "id": "7bad4654",
   "metadata": {
    "papermill": {
     "duration": 0.007309,
     "end_time": "2023-08-29T13:12:42.024565",
     "exception": false,
     "start_time": "2023-08-29T13:12:42.017256",
     "status": "completed"
    },
    "tags": []
   },
   "source": [
    "#### Scaling"
   ]
  },
  {
   "cell_type": "code",
   "execution_count": 5,
   "id": "71b458b6",
   "metadata": {
    "execution": {
     "iopub.execute_input": "2023-08-29T13:12:42.041785Z",
     "iopub.status.busy": "2023-08-29T13:12:42.041296Z",
     "iopub.status.idle": "2023-08-29T13:12:42.275158Z",
     "shell.execute_reply": "2023-08-29T13:12:42.273657Z"
    },
    "papermill": {
     "duration": 0.245771,
     "end_time": "2023-08-29T13:12:42.278027",
     "exception": false,
     "start_time": "2023-08-29T13:12:42.032256",
     "status": "completed"
    },
    "tags": []
   },
   "outputs": [],
   "source": [
    "train_scaled = train_data / 255\n",
    "test_scaled = df_test.values / 255"
   ]
  },
  {
   "cell_type": "markdown",
   "id": "11ae4348",
   "metadata": {
    "papermill": {
     "duration": 0.007467,
     "end_time": "2023-08-29T13:12:42.293216",
     "exception": false,
     "start_time": "2023-08-29T13:12:42.285749",
     "status": "completed"
    },
    "tags": []
   },
   "source": [
    "#### reshaping"
   ]
  },
  {
   "cell_type": "code",
   "execution_count": 6,
   "id": "0ad886e7",
   "metadata": {
    "execution": {
     "iopub.execute_input": "2023-08-29T13:12:42.310911Z",
     "iopub.status.busy": "2023-08-29T13:12:42.310469Z",
     "iopub.status.idle": "2023-08-29T13:12:42.315878Z",
     "shell.execute_reply": "2023-08-29T13:12:42.314931Z"
    },
    "papermill": {
     "duration": 0.016872,
     "end_time": "2023-08-29T13:12:42.318239",
     "exception": false,
     "start_time": "2023-08-29T13:12:42.301367",
     "status": "completed"
    },
    "tags": []
   },
   "outputs": [],
   "source": [
    "image_size = 28\n",
    "\n",
    "train_images = train_scaled.reshape(df_train.shape[0], image_size, image_size, 1)\n",
    "test_images = test_scaled.reshape(df_test.shape[0], image_size, image_size, 1)"
   ]
  },
  {
   "cell_type": "code",
   "execution_count": 7,
   "id": "ad4566c8",
   "metadata": {
    "execution": {
     "iopub.execute_input": "2023-08-29T13:12:42.335666Z",
     "iopub.status.busy": "2023-08-29T13:12:42.335275Z",
     "iopub.status.idle": "2023-08-29T13:12:43.552011Z",
     "shell.execute_reply": "2023-08-29T13:12:43.550838Z"
    },
    "papermill": {
     "duration": 1.22858,
     "end_time": "2023-08-29T13:12:43.554704",
     "exception": false,
     "start_time": "2023-08-29T13:12:42.326124",
     "status": "completed"
    },
    "tags": []
   },
   "outputs": [
    {
     "data": {
      "image/png": "[encoded data removed]",
      "text/plain": [
       "<Figure size 1000x500 with 10 Axes>"
      ]
     },
     "metadata": {},
     "output_type": "display_data"
    }
   ],
   "source": [
    "plt.figure(figsize=(10, 5))\n",
    "\n",
    "for i in range(10): \n",
    "    plt.subplot(2, 5, i + 1)\n",
    "    plt.imshow(train_images[i], cmap='gray')\n",
    "    plt.title(f\"Label: {train_labels[i]}\")\n",
    "    plt.axis('off')\n",
    "\n",
    "plt.tight_layout()\n",
    "plt.show()"
   ]
  },
  {
   "cell_type": "markdown",
   "id": "748d2e8d",
   "metadata": {
    "papermill": {
     "duration": 0.007552,
     "end_time": "2023-08-29T13:12:43.570463",
     "exception": false,
     "start_time": "2023-08-29T13:12:43.562911",
     "status": "completed"
    },
    "tags": []
   },
   "source": [
    "#### train and validation set"
   ]
  },
  {
   "cell_type": "code",
   "execution_count": 8,
   "id": "9276ac37",
   "metadata": {
    "execution": {
     "iopub.execute_input": "2023-08-29T13:12:43.588481Z",
     "iopub.status.busy": "2023-08-29T13:12:43.588084Z",
     "iopub.status.idle": "2023-08-29T13:12:44.014695Z",
     "shell.execute_reply": "2023-08-29T13:12:44.013730Z"
    },
    "papermill": {
     "duration": 0.43892,
     "end_time": "2023-08-29T13:12:44.017523",
     "exception": false,
     "start_time": "2023-08-29T13:12:43.578603",
     "status": "completed"
    },
    "tags": []
   },
   "outputs": [],
   "source": [
    " X_train, X_val, y_train, y_val = train_test_split(train_images, train_labels, test_size=0.2, random_state=42)"
   ]
  },
  {
   "cell_type": "markdown",
   "id": "a44dfbba",
   "metadata": {
    "papermill": {
     "duration": 0.007737,
     "end_time": "2023-08-29T13:12:44.033206",
     "exception": false,
     "start_time": "2023-08-29T13:12:44.025469",
     "status": "completed"
    },
    "tags": []
   },
   "source": [
    "### Building CNN"
   ]
  },
  {
   "cell_type": "code",
   "execution_count": 9,
   "id": "c118cd69",
   "metadata": {
    "execution": {
     "iopub.execute_input": "2023-08-29T13:12:44.051024Z",
     "iopub.status.busy": "2023-08-29T13:12:44.050611Z",
     "iopub.status.idle": "2023-08-29T13:12:44.439544Z",
     "shell.execute_reply": "2023-08-29T13:12:44.437462Z"
    },
    "papermill": {
     "duration": 0.407866,
     "end_time": "2023-08-29T13:12:44.449010",
     "exception": false,
     "start_time": "2023-08-29T13:12:44.041144",
     "status": "completed"
    },
    "tags": []
   },
   "outputs": [
    {
     "name": "stdout",
     "output_type": "stream",
     "text": [
      "Model: \"sequential\"\n",
      "_________________________________________________________________\n",
      " Layer (type)                Output Shape              Param #   \n",
      "=================================================================\n",
      " conv2d (Conv2D)             (None, 26, 26, 16)        160       \n",
      "                                                                 \n",
      " max_pooling2d (MaxPooling2D  (None, 13, 13, 16)       0         \n",
      " )                                                               \n",
      "                                                                 \n",
      " dropout (Dropout)           (None, 13, 13, 16)        0         \n",
      "                                                                 \n",
      " batch_normalization (BatchN  (None, 13, 13, 16)       64        \n",
      " ormalization)                                                   \n",
      "                                                                 \n",
      " conv2d_1 (Conv2D)           (None, 11, 11, 32)        4640      \n",
      "                                                                 \n",
      " max_pooling2d_1 (MaxPooling  (None, 5, 5, 32)         0         \n",
      " 2D)                                                             \n",
      "                                                                 \n",
      " dropout_1 (Dropout)         (None, 5, 5, 32)          0         \n",
      "                                                                 \n",
      " batch_normalization_1 (Batc  (None, 5, 5, 32)         128       \n",
      " hNormalization)                                                 \n",
      "                                                                 \n",
      " conv2d_2 (Conv2D)           (None, 3, 3, 64)          18496     \n",
      "                                                                 \n",
      " max_pooling2d_2 (MaxPooling  (None, 1, 1, 64)         0         \n",
      " 2D)                                                             \n",
      "                                                                 \n",
      " dropout_2 (Dropout)         (None, 1, 1, 64)          0         \n",
      "                                                                 \n",
      " batch_normalization_2 (Batc  (None, 1, 1, 64)         256       \n",
      " hNormalization)                                                 \n",
      "                                                                 \n",
      " flatten (Flatten)           (None, 64)                0         \n",
      "                                                                 \n",
      " dense (Dense)               (None, 100)               6500      \n",
      "                                                                 \n",
      " dense_1 (Dense)             (None, 10)                1010      \n",
      "                                                                 \n",
      "=================================================================\n",
      "Total params: 31,254\n",
      "Trainable params: 31,030\n",
      "Non-trainable params: 224\n",
      "_________________________________________________________________\n"
     ]
    }
   ],
   "source": [
    "model = keras.models.Sequential([\n",
    "    keras.layers.Conv2D(16, (3, 3), activation='relu', input_shape=(28, 28, 1)),\n",
    "    keras.layers.MaxPooling2D((2, 2)),\n",
    "    keras.layers.Dropout(0.3),\n",
    "    keras.layers.BatchNormalization(),\n",
    "    keras.layers.Conv2D(32, (3, 3), activation='relu'),\n",
    "    keras.layers.MaxPooling2D((2, 2)),\n",
    "    keras.layers.Dropout(0.3),\n",
    "    keras.layers.BatchNormalization(),\n",
    "    keras.layers.Conv2D(64, (3, 3), activation='relu'),\n",
    "    keras.layers.MaxPooling2D((2, 2)),\n",
    "    keras.layers.Dropout(0.3),\n",
    "    keras.layers.BatchNormalization(),\n",
    "    keras.layers.Flatten(),\n",
    "    keras.layers.Dense(100, activation='relu'),\n",
    "    keras.layers.Dense(10, activation='sigmoid'),\n",
    "])\n",
    "\n",
    "\n",
    "model.compile(\n",
    "    optimizer=tf.keras.optimizers.Adam(epsilon=0.01),\n",
    "    loss='sparse_categorical_crossentropy',\n",
    "    metrics=['accuracy']\n",
    ")\n",
    "\n",
    "model.summary()"
   ]
  },
  {
   "cell_type": "code",
   "execution_count": 10,
   "id": "27e4379f",
   "metadata": {
    "execution": {
     "iopub.execute_input": "2023-08-29T13:12:44.474702Z",
     "iopub.status.busy": "2023-08-29T13:12:44.474313Z",
     "iopub.status.idle": "2023-08-29T13:12:44.479462Z",
     "shell.execute_reply": "2023-08-29T13:12:44.478299Z"
    },
    "papermill": {
     "duration": 0.021078,
     "end_time": "2023-08-29T13:12:44.481958",
     "exception": false,
     "start_time": "2023-08-29T13:12:44.460880",
     "status": "completed"
    },
    "tags": []
   },
   "outputs": [],
   "source": [
    "es = EarlyStopping(\n",
    "    monitor='val_loss',\n",
    "    patience=10,\n",
    "    restore_best_weights=True)"
   ]
  },
  {
   "cell_type": "code",
   "execution_count": 11,
   "id": "63051cb0",
   "metadata": {
    "execution": {
     "iopub.execute_input": "2023-08-29T13:12:44.507875Z",
     "iopub.status.busy": "2023-08-29T13:12:44.507317Z",
     "iopub.status.idle": "2023-08-29T13:12:44.664863Z",
     "shell.execute_reply": "2023-08-29T13:12:44.663825Z"
    },
    "papermill": {
     "duration": 0.173829,
     "end_time": "2023-08-29T13:12:44.667718",
     "exception": false,
     "start_time": "2023-08-29T13:12:44.493889",
     "status": "completed"
    },
    "tags": []
   },
   "outputs": [],
   "source": [
    "datagen = ImageDataGenerator(\n",
    "    rotation_range=10,\n",
    "    width_shift_range=0.1,\n",
    "    height_shift_range=0.1,\n",
    "    zoom_range=0.1,\n",
    ")\n",
    "datagen.fit(X_train)\n",
    "augmented_data_generator = datagen.flow(X_train, y_train, batch_size=64)"
   ]
  },
  {
   "cell_type": "code",
   "execution_count": 12,
   "id": "ce2313d7",
   "metadata": {
    "execution": {
     "iopub.execute_input": "2023-08-29T13:12:44.693460Z",
     "iopub.status.busy": "2023-08-29T13:12:44.693058Z",
     "iopub.status.idle": "2023-08-29T13:36:30.470850Z",
     "shell.execute_reply": "2023-08-29T13:36:30.469467Z"
    },
    "papermill": {
     "duration": 1425.793947,
     "end_time": "2023-08-29T13:36:30.473661",
     "exception": false,
     "start_time": "2023-08-29T13:12:44.679714",
     "status": "completed"
    },
    "tags": []
   },
   "outputs": [
    {
     "name": "stdout",
     "output_type": "stream",
     "text": [
      "Epoch 1/60\n",
      "525/525 [==============================] - 22s 39ms/step - loss: 1.5137 - accuracy: 0.4787 - val_loss: 0.6885 - val_accuracy: 0.8242\n",
      "Epoch 2/60\n",
      "525/525 [==============================] - 21s 39ms/step - loss: 0.7518 - accuracy: 0.7498 - val_loss: 0.1829 - val_accuracy: 0.9448\n",
      "Epoch 3/60\n",
      "525/525 [==============================] - 20s 39ms/step - loss: 0.5199 - accuracy: 0.8328 - val_loss: 0.1364 - val_accuracy: 0.9573\n",
      "Epoch 4/60\n",
      "525/525 [==============================] - 21s 39ms/step - loss: 0.4342 - accuracy: 0.8605 - val_loss: 0.1188 - val_accuracy: 0.9627\n",
      "Epoch 5/60\n",
      "525/525 [==============================] - 20s 39ms/step - loss: 0.3863 - accuracy: 0.8760 - val_loss: 0.1126 - val_accuracy: 0.9643\n",
      "Epoch 6/60\n",
      "525/525 [==============================] - 20s 38ms/step - loss: 0.3578 - accuracy: 0.8860 - val_loss: 0.1017 - val_accuracy: 0.9694\n",
      "Epoch 7/60\n",
      "525/525 [==============================] - 19s 37ms/step - loss: 0.3312 - accuracy: 0.8942 - val_loss: 0.1021 - val_accuracy: 0.9701\n",
      "Epoch 8/60\n",
      "525/525 [==============================] - 20s 38ms/step - loss: 0.3130 - accuracy: 0.9028 - val_loss: 0.0936 - val_accuracy: 0.9721\n",
      "Epoch 9/60\n",
      "525/525 [==============================] - 20s 38ms/step - loss: 0.3038 - accuracy: 0.9038 - val_loss: 0.0832 - val_accuracy: 0.9745\n",
      "Epoch 10/60\n",
      "525/525 [==============================] - 20s 38ms/step - loss: 0.2931 - accuracy: 0.9068 - val_loss: 0.0859 - val_accuracy: 0.9739\n",
      "Epoch 11/60\n",
      "525/525 [==============================] - 20s 38ms/step - loss: 0.2855 - accuracy: 0.9077 - val_loss: 0.0772 - val_accuracy: 0.9770\n",
      "Epoch 12/60\n",
      "525/525 [==============================] - 20s 38ms/step - loss: 0.2766 - accuracy: 0.9128 - val_loss: 0.0737 - val_accuracy: 0.9776\n",
      "Epoch 13/60\n",
      "525/525 [==============================] - 20s 37ms/step - loss: 0.2681 - accuracy: 0.9161 - val_loss: 0.0715 - val_accuracy: 0.9785\n",
      "Epoch 14/60\n",
      "525/525 [==============================] - 21s 39ms/step - loss: 0.2678 - accuracy: 0.9147 - val_loss: 0.0750 - val_accuracy: 0.9767\n",
      "Epoch 15/60\n",
      "525/525 [==============================] - 20s 38ms/step - loss: 0.2645 - accuracy: 0.9171 - val_loss: 0.0671 - val_accuracy: 0.9799\n",
      "Epoch 16/60\n",
      "525/525 [==============================] - 20s 39ms/step - loss: 0.2593 - accuracy: 0.9187 - val_loss: 0.0710 - val_accuracy: 0.9760\n",
      "Epoch 17/60\n",
      "525/525 [==============================] - 20s 38ms/step - loss: 0.2487 - accuracy: 0.9229 - val_loss: 0.0649 - val_accuracy: 0.9798\n",
      "Epoch 18/60\n",
      "525/525 [==============================] - 20s 39ms/step - loss: 0.2485 - accuracy: 0.9224 - val_loss: 0.0605 - val_accuracy: 0.9812\n",
      "Epoch 19/60\n",
      "525/525 [==============================] - 20s 39ms/step - loss: 0.2471 - accuracy: 0.9221 - val_loss: 0.0650 - val_accuracy: 0.9798\n",
      "Epoch 20/60\n",
      "525/525 [==============================] - 20s 38ms/step - loss: 0.2370 - accuracy: 0.9255 - val_loss: 0.0691 - val_accuracy: 0.9780\n",
      "Epoch 21/60\n",
      "525/525 [==============================] - 19s 37ms/step - loss: 0.2416 - accuracy: 0.9238 - val_loss: 0.0649 - val_accuracy: 0.9799\n",
      "Epoch 22/60\n",
      "525/525 [==============================] - 20s 38ms/step - loss: 0.2372 - accuracy: 0.9263 - val_loss: 0.0603 - val_accuracy: 0.9818\n",
      "Epoch 23/60\n",
      "525/525 [==============================] - 20s 39ms/step - loss: 0.2348 - accuracy: 0.9264 - val_loss: 0.0596 - val_accuracy: 0.9815\n",
      "Epoch 24/60\n",
      "525/525 [==============================] - 20s 37ms/step - loss: 0.2336 - accuracy: 0.9267 - val_loss: 0.0586 - val_accuracy: 0.9821\n",
      "Epoch 25/60\n",
      "525/525 [==============================] - 20s 38ms/step - loss: 0.2355 - accuracy: 0.9264 - val_loss: 0.0608 - val_accuracy: 0.9815\n",
      "Epoch 26/60\n",
      "525/525 [==============================] - 20s 37ms/step - loss: 0.2280 - accuracy: 0.9283 - val_loss: 0.0564 - val_accuracy: 0.9818\n",
      "Epoch 27/60\n",
      "525/525 [==============================] - 20s 38ms/step - loss: 0.2229 - accuracy: 0.9306 - val_loss: 0.0566 - val_accuracy: 0.9813\n",
      "Epoch 28/60\n",
      "525/525 [==============================] - 21s 39ms/step - loss: 0.2285 - accuracy: 0.9278 - val_loss: 0.0549 - val_accuracy: 0.9825\n",
      "Epoch 29/60\n",
      "525/525 [==============================] - 20s 38ms/step - loss: 0.2217 - accuracy: 0.9299 - val_loss: 0.0526 - val_accuracy: 0.9820\n",
      "Epoch 30/60\n",
      "525/525 [==============================] - 20s 38ms/step - loss: 0.2193 - accuracy: 0.9310 - val_loss: 0.0539 - val_accuracy: 0.9837\n",
      "Epoch 31/60\n",
      "525/525 [==============================] - 20s 37ms/step - loss: 0.2159 - accuracy: 0.9317 - val_loss: 0.0550 - val_accuracy: 0.9831\n",
      "Epoch 32/60\n",
      "525/525 [==============================] - 20s 38ms/step - loss: 0.2172 - accuracy: 0.9329 - val_loss: 0.0510 - val_accuracy: 0.9835\n",
      "Epoch 33/60\n",
      "525/525 [==============================] - 20s 38ms/step - loss: 0.2125 - accuracy: 0.9334 - val_loss: 0.0511 - val_accuracy: 0.9840\n",
      "Epoch 34/60\n",
      "525/525 [==============================] - 20s 38ms/step - loss: 0.2167 - accuracy: 0.9315 - val_loss: 0.0513 - val_accuracy: 0.9832\n",
      "Epoch 35/60\n",
      "525/525 [==============================] - 20s 38ms/step - loss: 0.2161 - accuracy: 0.9305 - val_loss: 0.0526 - val_accuracy: 0.9832\n",
      "Epoch 36/60\n",
      "525/525 [==============================] - 20s 37ms/step - loss: 0.2112 - accuracy: 0.9334 - val_loss: 0.0513 - val_accuracy: 0.9832\n",
      "Epoch 37/60\n",
      "525/525 [==============================] - 20s 39ms/step - loss: 0.2095 - accuracy: 0.9345 - val_loss: 0.0535 - val_accuracy: 0.9827\n",
      "Epoch 38/60\n",
      "525/525 [==============================] - 20s 38ms/step - loss: 0.2121 - accuracy: 0.9343 - val_loss: 0.0503 - val_accuracy: 0.9848\n",
      "Epoch 39/60\n",
      "525/525 [==============================] - 20s 39ms/step - loss: 0.2066 - accuracy: 0.9345 - val_loss: 0.0514 - val_accuracy: 0.9843\n",
      "Epoch 40/60\n",
      "525/525 [==============================] - 20s 39ms/step - loss: 0.2063 - accuracy: 0.9350 - val_loss: 0.0490 - val_accuracy: 0.9840\n",
      "Epoch 41/60\n",
      "525/525 [==============================] - 20s 38ms/step - loss: 0.2079 - accuracy: 0.9352 - val_loss: 0.0511 - val_accuracy: 0.9830\n",
      "Epoch 42/60\n",
      "525/525 [==============================] - 20s 37ms/step - loss: 0.2052 - accuracy: 0.9359 - val_loss: 0.0549 - val_accuracy: 0.9833\n",
      "Epoch 43/60\n",
      "525/525 [==============================] - 20s 38ms/step - loss: 0.2109 - accuracy: 0.9334 - val_loss: 0.0499 - val_accuracy: 0.9860\n",
      "Epoch 44/60\n",
      "525/525 [==============================] - 20s 39ms/step - loss: 0.2038 - accuracy: 0.9362 - val_loss: 0.0474 - val_accuracy: 0.9852\n",
      "Epoch 45/60\n",
      "525/525 [==============================] - 20s 37ms/step - loss: 0.2047 - accuracy: 0.9343 - val_loss: 0.0532 - val_accuracy: 0.9840\n",
      "Epoch 46/60\n",
      "525/525 [==============================] - 21s 39ms/step - loss: 0.2039 - accuracy: 0.9361 - val_loss: 0.0502 - val_accuracy: 0.9843\n",
      "Epoch 47/60\n",
      "525/525 [==============================] - 20s 38ms/step - loss: 0.1996 - accuracy: 0.9354 - val_loss: 0.0496 - val_accuracy: 0.9861\n",
      "Epoch 48/60\n",
      "525/525 [==============================] - 20s 38ms/step - loss: 0.1979 - accuracy: 0.9369 - val_loss: 0.0506 - val_accuracy: 0.9850\n",
      "Epoch 49/60\n",
      "525/525 [==============================] - 20s 38ms/step - loss: 0.1970 - accuracy: 0.9387 - val_loss: 0.0483 - val_accuracy: 0.9848\n",
      "Epoch 50/60\n",
      "525/525 [==============================] - 20s 38ms/step - loss: 0.1974 - accuracy: 0.9378 - val_loss: 0.0488 - val_accuracy: 0.9855\n",
      "Epoch 51/60\n",
      "525/525 [==============================] - 21s 39ms/step - loss: 0.1967 - accuracy: 0.9378 - val_loss: 0.0470 - val_accuracy: 0.9854\n",
      "Epoch 52/60\n",
      "525/525 [==============================] - 20s 38ms/step - loss: 0.1996 - accuracy: 0.9386 - val_loss: 0.0469 - val_accuracy: 0.9861\n",
      "Epoch 53/60\n",
      "525/525 [==============================] - 21s 40ms/step - loss: 0.1910 - accuracy: 0.9394 - val_loss: 0.0504 - val_accuracy: 0.9840\n",
      "Epoch 54/60\n",
      "525/525 [==============================] - 20s 39ms/step - loss: 0.1975 - accuracy: 0.9375 - val_loss: 0.0469 - val_accuracy: 0.9848\n",
      "Epoch 55/60\n",
      "525/525 [==============================] - 20s 39ms/step - loss: 0.1950 - accuracy: 0.9384 - val_loss: 0.0482 - val_accuracy: 0.9844\n",
      "Epoch 56/60\n",
      "525/525 [==============================] - 20s 38ms/step - loss: 0.1922 - accuracy: 0.9395 - val_loss: 0.0481 - val_accuracy: 0.9833\n",
      "Epoch 57/60\n",
      "525/525 [==============================] - 21s 40ms/step - loss: 0.1898 - accuracy: 0.9396 - val_loss: 0.0472 - val_accuracy: 0.9846\n",
      "Epoch 58/60\n",
      "525/525 [==============================] - 20s 38ms/step - loss: 0.1975 - accuracy: 0.9381 - val_loss: 0.0480 - val_accuracy: 0.9842\n",
      "Epoch 59/60\n",
      "525/525 [==============================] - 20s 39ms/step - loss: 0.1941 - accuracy: 0.9385 - val_loss: 0.0483 - val_accuracy: 0.9850\n",
      "Epoch 60/60\n",
      "525/525 [==============================] - 20s 38ms/step - loss: 0.1891 - accuracy: 0.9399 - val_loss: 0.0444 - val_accuracy: 0.9864\n"
     ]
    }
   ],
   "source": [
    "history = model.fit(\n",
    "    augmented_data_generator,\n",
    "    validation_data=(X_val, y_val),\n",
    "    epochs=60,\n",
    "    batch_size=16,\n",
    "    callbacks=[es]\n",
    ")"
   ]
  },
  {
   "cell_type": "code",
   "execution_count": 13,
   "id": "2418c8b3",
   "metadata": {
    "execution": {
     "iopub.execute_input": "2023-08-29T13:36:33.619945Z",
     "iopub.status.busy": "2023-08-29T13:36:33.619456Z",
     "iopub.status.idle": "2023-08-29T13:36:34.132695Z",
     "shell.execute_reply": "2023-08-29T13:36:34.131511Z"
    },
    "papermill": {
     "duration": 2.111054,
     "end_time": "2023-08-29T13:36:34.135611",
     "exception": false,
     "start_time": "2023-08-29T13:36:32.024557",
     "status": "completed"
    },
    "tags": []
   },
   "outputs": [
    {
     "data": {
      "image/png": "[encoded data removed]",
      "text/plain": [
       "<Figure size 1200x400 with 2 Axes>"
      ]
     },
     "metadata": {},
     "output_type": "display_data"
    }
   ],
   "source": [
    "plt.figure(figsize=(12, 4))\n",
    "plt.subplot(1, 2, 1)\n",
    "plt.plot(history.history['accuracy'], label='Training Accuracy')\n",
    "plt.plot(history.history['val_accuracy'], label='Validation Accuracy')\n",
    "plt.xlabel('Epoch')\n",
    "plt.ylabel('Accuracy')\n",
    "plt.legend()\n",
    "\n",
    "plt.subplot(1, 2, 2)\n",
    "plt.plot(history.history['loss'], label='Training Loss')\n",
    "plt.plot(history.history['val_loss'], label='Validation Loss')\n",
    "plt.xlabel('Epoch')\n",
    "plt.ylabel('Loss')\n",
    "plt.legend()\n",
    "\n",
    "plt.tight_layout()\n",
    "plt.show()"
   ]
  },
  {
   "cell_type": "code",
   "execution_count": 14,
   "id": "20c71edf",
   "metadata": {
    "execution": {
     "iopub.execute_input": "2023-08-29T13:36:37.153356Z",
     "iopub.status.busy": "2023-08-29T13:36:37.152969Z",
     "iopub.status.idle": "2023-08-29T13:36:42.460437Z",
     "shell.execute_reply": "2023-08-29T13:36:42.459103Z"
    },
    "papermill": {
     "duration": 6.863925,
     "end_time": "2023-08-29T13:36:42.464072",
     "exception": false,
     "start_time": "2023-08-29T13:36:35.600147",
     "status": "completed"
    },
    "tags": []
   },
   "outputs": [
    {
     "name": "stdout",
     "output_type": "stream",
     "text": [
      "875/875 [==============================] - 5s 5ms/step\n"
     ]
    },
    {
     "data": {
      "text/html": [
       "<div>\n",
       "<style scoped>\n",
       "    .dataframe tbody tr th:only-of-type {\n",
       "        vertical-align: middle;\n",
       "    }\n",
       "\n",
       "    .dataframe tbody tr th {\n",
       "        vertical-align: top;\n",
       "    }\n",
       "\n",
       "    .dataframe thead th {\n",
       "        text-align: right;\n",
       "    }\n",
       "</style>\n",
       "<table border=\"1\" class=\"dataframe\">\n",
       "  <thead>\n",
       "    <tr style=\"text-align: right;\">\n",
       "      <th></th>\n",
       "      <th>Label</th>\n",
       "    </tr>\n",
       "    <tr>\n",
       "      <th>ImageId</th>\n",
       "      <th></th>\n",
       "    </tr>\n",
       "  </thead>\n",
       "  <tbody>\n",
       "    <tr>\n",
       "      <th>1</th>\n",
       "      <td>2</td>\n",
       "    </tr>\n",
       "    <tr>\n",
       "      <th>2</th>\n",
       "      <td>0</td>\n",
       "    </tr>\n",
       "    <tr>\n",
       "      <th>3</th>\n",
       "      <td>9</td>\n",
       "    </tr>\n",
       "    <tr>\n",
       "      <th>4</th>\n",
       "      <td>9</td>\n",
       "    </tr>\n",
       "    <tr>\n",
       "      <th>5</th>\n",
       "      <td>3</td>\n",
       "    </tr>\n",
       "    <tr>\n",
       "      <th>...</th>\n",
       "      <td>...</td>\n",
       "    </tr>\n",
       "    <tr>\n",
       "      <th>27996</th>\n",
       "      <td>9</td>\n",
       "    </tr>\n",
       "    <tr>\n",
       "      <th>27997</th>\n",
       "      <td>7</td>\n",
       "    </tr>\n",
       "    <tr>\n",
       "      <th>27998</th>\n",
       "      <td>3</td>\n",
       "    </tr>\n",
       "    <tr>\n",
       "      <th>27999</th>\n",
       "      <td>9</td>\n",
       "    </tr>\n",
       "    <tr>\n",
       "      <th>28000</th>\n",
       "      <td>2</td>\n",
       "    </tr>\n",
       "  </tbody>\n",
       "</table>\n",
       "<p>28000 rows × 1 columns</p>\n",
       "</div>"
      ],
      "text/plain": [
       "         Label\n",
       "ImageId       \n",
       "1            2\n",
       "2            0\n",
       "3            9\n",
       "4            9\n",
       "5            3\n",
       "...        ...\n",
       "27996        9\n",
       "27997        7\n",
       "27998        3\n",
       "27999        9\n",
       "28000        2\n",
       "\n",
       "[28000 rows x 1 columns]"
      ]
     },
     "execution_count": 14,
     "metadata": {},
     "output_type": "execute_result"
    }
   ],
   "source": [
    "predictions = pd.DataFrame({\n",
    "    'ImageId': np.arange(1, len(test_images) + 1),\n",
    "    'Label': np.argmax(\n",
    "        model.predict(test_images),\n",
    "        axis=1\n",
    "    )}\n",
    ").set_index('ImageId')\n",
    "predictions"
   ]
  },
  {
   "cell_type": "code",
   "execution_count": 15,
   "id": "233d3227",
   "metadata": {
    "execution": {
     "iopub.execute_input": "2023-08-29T13:36:45.540558Z",
     "iopub.status.busy": "2023-08-29T13:36:45.540146Z",
     "iopub.status.idle": "2023-08-29T13:36:45.618017Z",
     "shell.execute_reply": "2023-08-29T13:36:45.616803Z"
    },
    "papermill": {
     "duration": 1.640147,
     "end_time": "2023-08-29T13:36:45.620930",
     "exception": false,
     "start_time": "2023-08-29T13:36:43.980783",
     "status": "completed"
    },
    "tags": []
   },
   "outputs": [],
   "source": [
    "predictions.to_csv('/kaggle/working/pred.csv')"
   ]
  },
  {
   "cell_type": "code",
   "execution_count": null,
   "id": "d6e4cef7",
   "metadata": {
    "papermill": {
     "duration": 1.472929,
     "end_time": "2023-08-29T13:36:48.647142",
     "exception": false,
     "start_time": "2023-08-29T13:36:47.174213",
     "status": "completed"
    },
    "tags": []
   },
   "outputs": [],
   "source": []
  }
 ],
 "metadata": {
  "kernelspec": {
   "display_name": "Python 3",
   "language": "python",
   "name": "python3"
  },
  "language_info": {
   "codemirror_mode": {
    "name": "ipython",
    "version": 3
   },
   "file_extension": ".py",
   "mimetype": "text/x-python",
   "name": "python",
   "nbconvert_exporter": "python",
   "pygments_lexer": "ipython3",
   "version": "3.10.12"
  },
  "papermill": {
   "default_parameters": {},
   "duration": 1480.105866,
   "end_time": "2023-08-29T13:36:52.890785",
   "environment_variables": {},
   "exception": null,
   "input_path": "__notebook__.ipynb",
   "output_path": "__notebook__.ipynb",
   "parameters": {},
   "start_time": "2023-08-29T13:12:12.784919",
   "version": "2.4.0"
  }
 },
 "nbformat": 4,
 "nbformat_minor": 5
}
