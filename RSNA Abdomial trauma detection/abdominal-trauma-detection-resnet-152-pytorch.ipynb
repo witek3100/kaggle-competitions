{
 "cells": [
  {
   "cell_type": "markdown",
   "id": "3c77ec52",
   "metadata": {
    "papermill": {
     "duration": 0.010362,
     "end_time": "2023-09-04T09:16:35.939354",
     "exception": false,
     "start_time": "2023-09-04T09:16:35.928992",
     "status": "completed"
    },
    "tags": []
   },
   "source": [
    "## Libraries"
   ]
  },
  {
   "cell_type": "code",
   "execution_count": 1,
   "id": "590b6edd",
   "metadata": {
    "execution": {
     "iopub.execute_input": "2023-09-04T09:16:35.959856Z",
     "iopub.status.busy": "2023-09-04T09:16:35.959332Z",
     "iopub.status.idle": "2023-09-04T09:16:42.930082Z",
     "shell.execute_reply": "2023-09-04T09:16:42.928809Z"
    },
    "papermill": {
     "duration": 6.985193,
     "end_time": "2023-09-04T09:16:42.933694",
     "exception": false,
     "start_time": "2023-09-04T09:16:35.948501",
     "status": "completed"
    },
    "tags": []
   },
   "outputs": [],
   "source": [
    "import numpy as np\n",
    "import pandas as pd\n",
    "import os\n",
    "import torch\n",
    "from torchvision import transforms, models\n",
    "from torchvision.datasets import ImageFolder\n",
    "from torch.utils.data import Dataset, DataLoader\n",
    "from torch import nn\n",
    "from PIL import Image\n",
    "import pydicom\n",
    "from sklearn.model_selection import train_test_split\n",
    "import torchvision.models as modelst"
   ]
  },
  {
   "cell_type": "markdown",
   "id": "220de8f8",
   "metadata": {
    "papermill": {
     "duration": 0.007833,
     "end_time": "2023-09-04T09:16:42.949733",
     "exception": false,
     "start_time": "2023-09-04T09:16:42.941900",
     "status": "completed"
    },
    "tags": []
   },
   "source": [
    "## Config"
   ]
  },
  {
   "cell_type": "code",
   "execution_count": 2,
   "id": "18e5c1ad",
   "metadata": {
    "execution": {
     "iopub.execute_input": "2023-09-04T09:16:42.968924Z",
     "iopub.status.busy": "2023-09-04T09:16:42.968296Z",
     "iopub.status.idle": "2023-09-04T09:16:42.974971Z",
     "shell.execute_reply": "2023-09-04T09:16:42.974037Z"
    },
    "papermill": {
     "duration": 0.019515,
     "end_time": "2023-09-04T09:16:42.977642",
     "exception": false,
     "start_time": "2023-09-04T09:16:42.958127",
     "status": "completed"
    },
    "tags": []
   },
   "outputs": [],
   "source": [
    "class Config:\n",
    "    BASE_DIR = '/kaggle/input/rsna-atd-512x512-png-v2-dataset'\n",
    "    SEED = 12\n",
    "    IMAGE_SIZE = (224, 224)\n",
    "    BATCH_SIZE = 32\n",
    "    TARGET_COLUMNS = ['bowel_healthy', 'bowel_injury',\n",
    "                      'extravasation_healthy', 'extravasation_injury',\n",
    "                      'kidney_healthy', 'kidney_low', 'kidney_high',\n",
    "                      'liver_healthy', 'liver_low', 'liver_high',\n",
    "                      'spleen_healthy', 'spleen_low', 'spleen_high',\n",
    "                     ]\n",
    "    \n",
    "config = Config()"
   ]
  },
  {
   "cell_type": "code",
   "execution_count": 3,
   "id": "153e5810",
   "metadata": {
    "execution": {
     "iopub.execute_input": "2023-09-04T09:16:42.995969Z",
     "iopub.status.busy": "2023-09-04T09:16:42.995313Z",
     "iopub.status.idle": "2023-09-04T09:16:43.124558Z",
     "shell.execute_reply": "2023-09-04T09:16:43.123553Z"
    },
    "papermill": {
     "duration": 0.141353,
     "end_time": "2023-09-04T09:16:43.127333",
     "exception": false,
     "start_time": "2023-09-04T09:16:42.985980",
     "status": "completed"
    },
    "tags": []
   },
   "outputs": [
    {
     "data": {
      "text/html": [
       "<div>\n",
       "<style scoped>\n",
       "    .dataframe tbody tr th:only-of-type {\n",
       "        vertical-align: middle;\n",
       "    }\n",
       "\n",
       "    .dataframe tbody tr th {\n",
       "        vertical-align: top;\n",
       "    }\n",
       "\n",
       "    .dataframe thead th {\n",
       "        text-align: right;\n",
       "    }\n",
       "</style>\n",
       "<table border=\"1\" class=\"dataframe\">\n",
       "  <thead>\n",
       "    <tr style=\"text-align: right;\">\n",
       "      <th></th>\n",
       "      <th>patient_id</th>\n",
       "      <th>bowel_healthy</th>\n",
       "      <th>bowel_injury</th>\n",
       "      <th>extravasation_healthy</th>\n",
       "      <th>extravasation_injury</th>\n",
       "      <th>kidney_healthy</th>\n",
       "      <th>kidney_low</th>\n",
       "      <th>kidney_high</th>\n",
       "      <th>liver_healthy</th>\n",
       "      <th>liver_low</th>\n",
       "      <th>...</th>\n",
       "      <th>spleen_healthy</th>\n",
       "      <th>spleen_low</th>\n",
       "      <th>spleen_high</th>\n",
       "      <th>any_injury</th>\n",
       "      <th>series_id</th>\n",
       "      <th>instance_number</th>\n",
       "      <th>injury_name</th>\n",
       "      <th>image_path</th>\n",
       "      <th>width</th>\n",
       "      <th>height</th>\n",
       "    </tr>\n",
       "  </thead>\n",
       "  <tbody>\n",
       "    <tr>\n",
       "      <th>0</th>\n",
       "      <td>10004</td>\n",
       "      <td>1</td>\n",
       "      <td>0</td>\n",
       "      <td>0</td>\n",
       "      <td>1</td>\n",
       "      <td>0</td>\n",
       "      <td>1</td>\n",
       "      <td>0</td>\n",
       "      <td>1</td>\n",
       "      <td>0</td>\n",
       "      <td>...</td>\n",
       "      <td>0</td>\n",
       "      <td>0</td>\n",
       "      <td>1</td>\n",
       "      <td>1</td>\n",
       "      <td>21057</td>\n",
       "      <td>362</td>\n",
       "      <td>Active_Extravasation</td>\n",
       "      <td>/kaggle/input/rsna-2023-abdominal-trauma-detec...</td>\n",
       "      <td>512</td>\n",
       "      <td>512</td>\n",
       "    </tr>\n",
       "    <tr>\n",
       "      <th>1</th>\n",
       "      <td>10004</td>\n",
       "      <td>1</td>\n",
       "      <td>0</td>\n",
       "      <td>0</td>\n",
       "      <td>1</td>\n",
       "      <td>0</td>\n",
       "      <td>1</td>\n",
       "      <td>0</td>\n",
       "      <td>1</td>\n",
       "      <td>0</td>\n",
       "      <td>...</td>\n",
       "      <td>0</td>\n",
       "      <td>0</td>\n",
       "      <td>1</td>\n",
       "      <td>1</td>\n",
       "      <td>21057</td>\n",
       "      <td>363</td>\n",
       "      <td>Active_Extravasation</td>\n",
       "      <td>/kaggle/input/rsna-2023-abdominal-trauma-detec...</td>\n",
       "      <td>512</td>\n",
       "      <td>512</td>\n",
       "    </tr>\n",
       "    <tr>\n",
       "      <th>2</th>\n",
       "      <td>10004</td>\n",
       "      <td>1</td>\n",
       "      <td>0</td>\n",
       "      <td>0</td>\n",
       "      <td>1</td>\n",
       "      <td>0</td>\n",
       "      <td>1</td>\n",
       "      <td>0</td>\n",
       "      <td>1</td>\n",
       "      <td>0</td>\n",
       "      <td>...</td>\n",
       "      <td>0</td>\n",
       "      <td>0</td>\n",
       "      <td>1</td>\n",
       "      <td>1</td>\n",
       "      <td>21057</td>\n",
       "      <td>364</td>\n",
       "      <td>Active_Extravasation</td>\n",
       "      <td>/kaggle/input/rsna-2023-abdominal-trauma-detec...</td>\n",
       "      <td>512</td>\n",
       "      <td>512</td>\n",
       "    </tr>\n",
       "    <tr>\n",
       "      <th>3</th>\n",
       "      <td>10004</td>\n",
       "      <td>1</td>\n",
       "      <td>0</td>\n",
       "      <td>0</td>\n",
       "      <td>1</td>\n",
       "      <td>0</td>\n",
       "      <td>1</td>\n",
       "      <td>0</td>\n",
       "      <td>1</td>\n",
       "      <td>0</td>\n",
       "      <td>...</td>\n",
       "      <td>0</td>\n",
       "      <td>0</td>\n",
       "      <td>1</td>\n",
       "      <td>1</td>\n",
       "      <td>21057</td>\n",
       "      <td>365</td>\n",
       "      <td>Active_Extravasation</td>\n",
       "      <td>/kaggle/input/rsna-2023-abdominal-trauma-detec...</td>\n",
       "      <td>512</td>\n",
       "      <td>512</td>\n",
       "    </tr>\n",
       "    <tr>\n",
       "      <th>4</th>\n",
       "      <td>10004</td>\n",
       "      <td>1</td>\n",
       "      <td>0</td>\n",
       "      <td>0</td>\n",
       "      <td>1</td>\n",
       "      <td>0</td>\n",
       "      <td>1</td>\n",
       "      <td>0</td>\n",
       "      <td>1</td>\n",
       "      <td>0</td>\n",
       "      <td>...</td>\n",
       "      <td>0</td>\n",
       "      <td>0</td>\n",
       "      <td>1</td>\n",
       "      <td>1</td>\n",
       "      <td>21057</td>\n",
       "      <td>366</td>\n",
       "      <td>Active_Extravasation</td>\n",
       "      <td>/kaggle/input/rsna-2023-abdominal-trauma-detec...</td>\n",
       "      <td>512</td>\n",
       "      <td>512</td>\n",
       "    </tr>\n",
       "  </tbody>\n",
       "</table>\n",
       "<p>5 rows × 21 columns</p>\n",
       "</div>"
      ],
      "text/plain": [
       "   patient_id  bowel_healthy  bowel_injury  extravasation_healthy  \\\n",
       "0       10004              1             0                      0   \n",
       "1       10004              1             0                      0   \n",
       "2       10004              1             0                      0   \n",
       "3       10004              1             0                      0   \n",
       "4       10004              1             0                      0   \n",
       "\n",
       "   extravasation_injury  kidney_healthy  kidney_low  kidney_high  \\\n",
       "0                     1               0           1            0   \n",
       "1                     1               0           1            0   \n",
       "2                     1               0           1            0   \n",
       "3                     1               0           1            0   \n",
       "4                     1               0           1            0   \n",
       "\n",
       "   liver_healthy  liver_low  ...  spleen_healthy  spleen_low  spleen_high  \\\n",
       "0              1          0  ...               0           0            1   \n",
       "1              1          0  ...               0           0            1   \n",
       "2              1          0  ...               0           0            1   \n",
       "3              1          0  ...               0           0            1   \n",
       "4              1          0  ...               0           0            1   \n",
       "\n",
       "   any_injury  series_id  instance_number           injury_name  \\\n",
       "0           1      21057              362  Active_Extravasation   \n",
       "1           1      21057              363  Active_Extravasation   \n",
       "2           1      21057              364  Active_Extravasation   \n",
       "3           1      21057              365  Active_Extravasation   \n",
       "4           1      21057              366  Active_Extravasation   \n",
       "\n",
       "                                          image_path width  height  \n",
       "0  /kaggle/input/rsna-2023-abdominal-trauma-detec...   512     512  \n",
       "1  /kaggle/input/rsna-2023-abdominal-trauma-detec...   512     512  \n",
       "2  /kaggle/input/rsna-2023-abdominal-trauma-detec...   512     512  \n",
       "3  /kaggle/input/rsna-2023-abdominal-trauma-detec...   512     512  \n",
       "4  /kaggle/input/rsna-2023-abdominal-trauma-detec...   512     512  \n",
       "\n",
       "[5 rows x 21 columns]"
      ]
     },
     "execution_count": 3,
     "metadata": {},
     "output_type": "execute_result"
    }
   ],
   "source": [
    "df = pd.read_csv(os.path.join(config.BASE_DIR, 'train.csv'))\n",
    "df.head(5)"
   ]
  },
  {
   "cell_type": "markdown",
   "id": "0e100370",
   "metadata": {
    "papermill": {
     "duration": 0.008187,
     "end_time": "2023-09-04T09:16:43.144363",
     "exception": false,
     "start_time": "2023-09-04T09:16:43.136176",
     "status": "completed"
    },
    "tags": []
   },
   "source": [
    "## train and validation set"
   ]
  },
  {
   "cell_type": "code",
   "execution_count": 4,
   "id": "133b0d7d",
   "metadata": {
    "execution": {
     "iopub.execute_input": "2023-09-04T09:16:43.163833Z",
     "iopub.status.busy": "2023-09-04T09:16:43.162797Z",
     "iopub.status.idle": "2023-09-04T09:16:43.311086Z",
     "shell.execute_reply": "2023-09-04T09:16:43.310061Z"
    },
    "papermill": {
     "duration": 0.161321,
     "end_time": "2023-09-04T09:16:43.314354",
     "exception": false,
     "start_time": "2023-09-04T09:16:43.153033",
     "status": "completed"
    },
    "tags": []
   },
   "outputs": [
    {
     "name": "stdout",
     "output_type": "stream",
     "text": [
      "(10399, 21) (2616, 21)\n"
     ]
    }
   ],
   "source": [
    "def split_group(group, test_size=0.2):\n",
    "    if len(group) == 1:\n",
    "        return (group, pd.DataFrame()) if np.random.rand() < test_size else (pd.DataFrame(), group)\n",
    "    else:\n",
    "        return train_test_split(group, test_size=test_size, random_state=config.SEED)\n",
    "\n",
    "train_set = pd.DataFrame()\n",
    "validation_set = pd.DataFrame()\n",
    "\n",
    "for _, group in df.groupby(config.TARGET_COLUMNS):\n",
    "    train_group, val_group = split_group(group)\n",
    "    train_set = pd.concat([train_set, train_group], ignore_index=True)\n",
    "    validation_set = pd.concat([validation_set, val_group], ignore_index=True)\n",
    "    \n",
    "print(train_set.shape, validation_set.shape)"
   ]
  },
  {
   "cell_type": "code",
   "execution_count": 5,
   "id": "a2e18791",
   "metadata": {
    "execution": {
     "iopub.execute_input": "2023-09-04T09:16:43.334804Z",
     "iopub.status.busy": "2023-09-04T09:16:43.333533Z",
     "iopub.status.idle": "2023-09-04T09:16:43.356949Z",
     "shell.execute_reply": "2023-09-04T09:16:43.355683Z"
    },
    "papermill": {
     "duration": 0.036457,
     "end_time": "2023-09-04T09:16:43.359711",
     "exception": false,
     "start_time": "2023-09-04T09:16:43.323254",
     "status": "completed"
    },
    "tags": []
   },
   "outputs": [
    {
     "data": {
      "text/html": [
       "<div>\n",
       "<style scoped>\n",
       "    .dataframe tbody tr th:only-of-type {\n",
       "        vertical-align: middle;\n",
       "    }\n",
       "\n",
       "    .dataframe tbody tr th {\n",
       "        vertical-align: top;\n",
       "    }\n",
       "\n",
       "    .dataframe thead th {\n",
       "        text-align: right;\n",
       "    }\n",
       "</style>\n",
       "<table border=\"1\" class=\"dataframe\">\n",
       "  <thead>\n",
       "    <tr style=\"text-align: right;\">\n",
       "      <th></th>\n",
       "      <th>patient_id</th>\n",
       "      <th>bowel_healthy</th>\n",
       "      <th>bowel_injury</th>\n",
       "      <th>extravasation_healthy</th>\n",
       "      <th>extravasation_injury</th>\n",
       "      <th>kidney_healthy</th>\n",
       "      <th>kidney_low</th>\n",
       "      <th>kidney_high</th>\n",
       "      <th>liver_healthy</th>\n",
       "      <th>liver_low</th>\n",
       "      <th>...</th>\n",
       "      <th>spleen_healthy</th>\n",
       "      <th>spleen_low</th>\n",
       "      <th>spleen_high</th>\n",
       "      <th>any_injury</th>\n",
       "      <th>series_id</th>\n",
       "      <th>instance_number</th>\n",
       "      <th>injury_name</th>\n",
       "      <th>image_path</th>\n",
       "      <th>width</th>\n",
       "      <th>height</th>\n",
       "    </tr>\n",
       "  </thead>\n",
       "  <tbody>\n",
       "    <tr>\n",
       "      <th>2319</th>\n",
       "      <td>57887</td>\n",
       "      <td>0</td>\n",
       "      <td>1</td>\n",
       "      <td>0</td>\n",
       "      <td>1</td>\n",
       "      <td>1</td>\n",
       "      <td>0</td>\n",
       "      <td>0</td>\n",
       "      <td>1</td>\n",
       "      <td>0</td>\n",
       "      <td>...</td>\n",
       "      <td>1</td>\n",
       "      <td>0</td>\n",
       "      <td>0</td>\n",
       "      <td>1</td>\n",
       "      <td>61745</td>\n",
       "      <td>230</td>\n",
       "      <td>Bowel</td>\n",
       "      <td>/kaggle/input/rsna-2023-abdominal-trauma-detec...</td>\n",
       "      <td>512</td>\n",
       "      <td>512</td>\n",
       "    </tr>\n",
       "    <tr>\n",
       "      <th>5479</th>\n",
       "      <td>61834</td>\n",
       "      <td>0</td>\n",
       "      <td>1</td>\n",
       "      <td>1</td>\n",
       "      <td>0</td>\n",
       "      <td>1</td>\n",
       "      <td>0</td>\n",
       "      <td>0</td>\n",
       "      <td>1</td>\n",
       "      <td>0</td>\n",
       "      <td>...</td>\n",
       "      <td>1</td>\n",
       "      <td>0</td>\n",
       "      <td>0</td>\n",
       "      <td>1</td>\n",
       "      <td>47652</td>\n",
       "      <td>133</td>\n",
       "      <td>Bowel</td>\n",
       "      <td>/kaggle/input/rsna-2023-abdominal-trauma-detec...</td>\n",
       "      <td>512</td>\n",
       "      <td>512</td>\n",
       "    </tr>\n",
       "    <tr>\n",
       "      <th>7694</th>\n",
       "      <td>4639</td>\n",
       "      <td>1</td>\n",
       "      <td>0</td>\n",
       "      <td>0</td>\n",
       "      <td>1</td>\n",
       "      <td>1</td>\n",
       "      <td>0</td>\n",
       "      <td>0</td>\n",
       "      <td>1</td>\n",
       "      <td>0</td>\n",
       "      <td>...</td>\n",
       "      <td>0</td>\n",
       "      <td>1</td>\n",
       "      <td>0</td>\n",
       "      <td>1</td>\n",
       "      <td>14738</td>\n",
       "      <td>116</td>\n",
       "      <td>Active_Extravasation</td>\n",
       "      <td>/kaggle/input/rsna-2023-abdominal-trauma-detec...</td>\n",
       "      <td>512</td>\n",
       "      <td>512</td>\n",
       "    </tr>\n",
       "  </tbody>\n",
       "</table>\n",
       "<p>3 rows × 21 columns</p>\n",
       "</div>"
      ],
      "text/plain": [
       "      patient_id  bowel_healthy  bowel_injury  extravasation_healthy  \\\n",
       "2319       57887              0             1                      0   \n",
       "5479       61834              0             1                      1   \n",
       "7694        4639              1             0                      0   \n",
       "\n",
       "      extravasation_injury  kidney_healthy  kidney_low  kidney_high  \\\n",
       "2319                     1               1           0            0   \n",
       "5479                     0               1           0            0   \n",
       "7694                     1               1           0            0   \n",
       "\n",
       "      liver_healthy  liver_low  ...  spleen_healthy  spleen_low  spleen_high  \\\n",
       "2319              1          0  ...               1           0            0   \n",
       "5479              1          0  ...               1           0            0   \n",
       "7694              1          0  ...               0           1            0   \n",
       "\n",
       "      any_injury  series_id  instance_number           injury_name  \\\n",
       "2319           1      61745              230                 Bowel   \n",
       "5479           1      47652              133                 Bowel   \n",
       "7694           1      14738              116  Active_Extravasation   \n",
       "\n",
       "                                             image_path width  height  \n",
       "2319  /kaggle/input/rsna-2023-abdominal-trauma-detec...   512     512  \n",
       "5479  /kaggle/input/rsna-2023-abdominal-trauma-detec...   512     512  \n",
       "7694  /kaggle/input/rsna-2023-abdominal-trauma-detec...   512     512  \n",
       "\n",
       "[3 rows x 21 columns]"
      ]
     },
     "execution_count": 5,
     "metadata": {},
     "output_type": "execute_result"
    }
   ],
   "source": [
    "train_set.sample(3)"
   ]
  },
  {
   "cell_type": "code",
   "execution_count": 6,
   "id": "95af9abf",
   "metadata": {
    "execution": {
     "iopub.execute_input": "2023-09-04T09:16:43.380182Z",
     "iopub.status.busy": "2023-09-04T09:16:43.378981Z",
     "iopub.status.idle": "2023-09-04T09:16:43.402405Z",
     "shell.execute_reply": "2023-09-04T09:16:43.401197Z"
    },
    "papermill": {
     "duration": 0.036413,
     "end_time": "2023-09-04T09:16:43.404995",
     "exception": false,
     "start_time": "2023-09-04T09:16:43.368582",
     "status": "completed"
    },
    "tags": []
   },
   "outputs": [
    {
     "data": {
      "text/html": [
       "<div>\n",
       "<style scoped>\n",
       "    .dataframe tbody tr th:only-of-type {\n",
       "        vertical-align: middle;\n",
       "    }\n",
       "\n",
       "    .dataframe tbody tr th {\n",
       "        vertical-align: top;\n",
       "    }\n",
       "\n",
       "    .dataframe thead th {\n",
       "        text-align: right;\n",
       "    }\n",
       "</style>\n",
       "<table border=\"1\" class=\"dataframe\">\n",
       "  <thead>\n",
       "    <tr style=\"text-align: right;\">\n",
       "      <th></th>\n",
       "      <th>patient_id</th>\n",
       "      <th>bowel_healthy</th>\n",
       "      <th>bowel_injury</th>\n",
       "      <th>extravasation_healthy</th>\n",
       "      <th>extravasation_injury</th>\n",
       "      <th>kidney_healthy</th>\n",
       "      <th>kidney_low</th>\n",
       "      <th>kidney_high</th>\n",
       "      <th>liver_healthy</th>\n",
       "      <th>liver_low</th>\n",
       "      <th>...</th>\n",
       "      <th>spleen_healthy</th>\n",
       "      <th>spleen_low</th>\n",
       "      <th>spleen_high</th>\n",
       "      <th>any_injury</th>\n",
       "      <th>series_id</th>\n",
       "      <th>instance_number</th>\n",
       "      <th>injury_name</th>\n",
       "      <th>image_path</th>\n",
       "      <th>width</th>\n",
       "      <th>height</th>\n",
       "    </tr>\n",
       "  </thead>\n",
       "  <tbody>\n",
       "    <tr>\n",
       "      <th>89</th>\n",
       "      <td>53908</td>\n",
       "      <td>0</td>\n",
       "      <td>1</td>\n",
       "      <td>0</td>\n",
       "      <td>1</td>\n",
       "      <td>1</td>\n",
       "      <td>0</td>\n",
       "      <td>0</td>\n",
       "      <td>0</td>\n",
       "      <td>1</td>\n",
       "      <td>...</td>\n",
       "      <td>1</td>\n",
       "      <td>0</td>\n",
       "      <td>0</td>\n",
       "      <td>1</td>\n",
       "      <td>15786</td>\n",
       "      <td>285</td>\n",
       "      <td>Bowel</td>\n",
       "      <td>/kaggle/input/rsna-2023-abdominal-trauma-detec...</td>\n",
       "      <td>512</td>\n",
       "      <td>512</td>\n",
       "    </tr>\n",
       "    <tr>\n",
       "      <th>2600</th>\n",
       "      <td>7411</td>\n",
       "      <td>1</td>\n",
       "      <td>0</td>\n",
       "      <td>0</td>\n",
       "      <td>1</td>\n",
       "      <td>1</td>\n",
       "      <td>0</td>\n",
       "      <td>0</td>\n",
       "      <td>1</td>\n",
       "      <td>0</td>\n",
       "      <td>...</td>\n",
       "      <td>1</td>\n",
       "      <td>0</td>\n",
       "      <td>0</td>\n",
       "      <td>1</td>\n",
       "      <td>42688</td>\n",
       "      <td>795</td>\n",
       "      <td>Active_Extravasation</td>\n",
       "      <td>/kaggle/input/rsna-2023-abdominal-trauma-detec...</td>\n",
       "      <td>512</td>\n",
       "      <td>512</td>\n",
       "    </tr>\n",
       "    <tr>\n",
       "      <th>318</th>\n",
       "      <td>56690</td>\n",
       "      <td>0</td>\n",
       "      <td>1</td>\n",
       "      <td>0</td>\n",
       "      <td>1</td>\n",
       "      <td>1</td>\n",
       "      <td>0</td>\n",
       "      <td>0</td>\n",
       "      <td>1</td>\n",
       "      <td>0</td>\n",
       "      <td>...</td>\n",
       "      <td>0</td>\n",
       "      <td>1</td>\n",
       "      <td>0</td>\n",
       "      <td>1</td>\n",
       "      <td>51951</td>\n",
       "      <td>347</td>\n",
       "      <td>Bowel</td>\n",
       "      <td>/kaggle/input/rsna-2023-abdominal-trauma-detec...</td>\n",
       "      <td>512</td>\n",
       "      <td>512</td>\n",
       "    </tr>\n",
       "  </tbody>\n",
       "</table>\n",
       "<p>3 rows × 21 columns</p>\n",
       "</div>"
      ],
      "text/plain": [
       "      patient_id  bowel_healthy  bowel_injury  extravasation_healthy  \\\n",
       "89         53908              0             1                      0   \n",
       "2600        7411              1             0                      0   \n",
       "318        56690              0             1                      0   \n",
       "\n",
       "      extravasation_injury  kidney_healthy  kidney_low  kidney_high  \\\n",
       "89                       1               1           0            0   \n",
       "2600                     1               1           0            0   \n",
       "318                      1               1           0            0   \n",
       "\n",
       "      liver_healthy  liver_low  ...  spleen_healthy  spleen_low  spleen_high  \\\n",
       "89                0          1  ...               1           0            0   \n",
       "2600              1          0  ...               1           0            0   \n",
       "318               1          0  ...               0           1            0   \n",
       "\n",
       "      any_injury  series_id  instance_number           injury_name  \\\n",
       "89             1      15786              285                 Bowel   \n",
       "2600           1      42688              795  Active_Extravasation   \n",
       "318            1      51951              347                 Bowel   \n",
       "\n",
       "                                             image_path width  height  \n",
       "89    /kaggle/input/rsna-2023-abdominal-trauma-detec...   512     512  \n",
       "2600  /kaggle/input/rsna-2023-abdominal-trauma-detec...   512     512  \n",
       "318   /kaggle/input/rsna-2023-abdominal-trauma-detec...   512     512  \n",
       "\n",
       "[3 rows x 21 columns]"
      ]
     },
     "execution_count": 6,
     "metadata": {},
     "output_type": "execute_result"
    }
   ],
   "source": [
    "validation_set.sample(3)"
   ]
  },
  {
   "cell_type": "markdown",
   "id": "07d1ab82",
   "metadata": {
    "papermill": {
     "duration": 0.00879,
     "end_time": "2023-09-04T09:16:43.424238",
     "exception": false,
     "start_time": "2023-09-04T09:16:43.415448",
     "status": "completed"
    },
    "tags": []
   },
   "source": [
    "## Data pipeline"
   ]
  },
  {
   "cell_type": "code",
   "execution_count": 7,
   "id": "731393e2",
   "metadata": {
    "execution": {
     "iopub.execute_input": "2023-09-04T09:16:43.445997Z",
     "iopub.status.busy": "2023-09-04T09:16:43.444953Z",
     "iopub.status.idle": "2023-09-04T09:16:43.455589Z",
     "shell.execute_reply": "2023-09-04T09:16:43.454521Z"
    },
    "papermill": {
     "duration": 0.024387,
     "end_time": "2023-09-04T09:16:43.458634",
     "exception": false,
     "start_time": "2023-09-04T09:16:43.434247",
     "status": "completed"
    },
    "tags": []
   },
   "outputs": [],
   "source": [
    "transformations = transforms.Compose([\n",
    "        transforms.Resize(config.IMAGE_SIZE, interpolation=Image.NEAREST),\n",
    "        transforms.ToTensor(),\n",
    "        transforms.Lambda(lambda x : x / 255)\n",
    "    ])\n",
    "\n",
    "class Dataset(Dataset):\n",
    "    def __init__(self, df, transform=None):\n",
    "        self.df = df\n",
    "        self.transform = transformations\n",
    "        \n",
    "    def __len__(self):\n",
    "        return len(self.df)\n",
    "    \n",
    "    def __getitem__(self, idx):\n",
    "        \n",
    "        image_path = self.df['image_path'][idx]\n",
    "        dicom_file = pydicom.dcmread(image_path)\n",
    "        pixel_array = dicom_file.pixel_array.astype(np.int16)\n",
    "        image = Image.fromarray(pixel_array)\n",
    "        image = self.transform(image)\n",
    "        \n",
    "        target = self.df[config.TARGET_COLUMNS].iloc[idx]\n",
    "        target = torch.tensor(target.values, dtype=torch.float32)\n",
    "\n",
    "        return image, target\n",
    "        \n",
    "dataset = Dataset(train_set, transformations)"
   ]
  },
  {
   "cell_type": "code",
   "execution_count": 8,
   "id": "e61f293c",
   "metadata": {
    "execution": {
     "iopub.execute_input": "2023-09-04T09:16:43.480532Z",
     "iopub.status.busy": "2023-09-04T09:16:43.479663Z",
     "iopub.status.idle": "2023-09-04T09:16:43.485405Z",
     "shell.execute_reply": "2023-09-04T09:16:43.484464Z"
    },
    "papermill": {
     "duration": 0.019422,
     "end_time": "2023-09-04T09:16:43.488100",
     "exception": false,
     "start_time": "2023-09-04T09:16:43.468678",
     "status": "completed"
    },
    "tags": []
   },
   "outputs": [],
   "source": [
    "dataloader = DataLoader(\n",
    "    dataset,\n",
    "    batch_size=config.BATCH_SIZE,\n",
    "    shuffle=False\n",
    ")"
   ]
  },
  {
   "cell_type": "markdown",
   "id": "1ea76f09",
   "metadata": {
    "papermill": {
     "duration": 0.009234,
     "end_time": "2023-09-04T09:16:43.507573",
     "exception": false,
     "start_time": "2023-09-04T09:16:43.498339",
     "status": "completed"
    },
    "tags": []
   },
   "source": [
    "## Model"
   ]
  },
  {
   "cell_type": "code",
   "execution_count": 9,
   "id": "0eea5e34",
   "metadata": {
    "execution": {
     "iopub.execute_input": "2023-09-04T09:16:43.529168Z",
     "iopub.status.busy": "2023-09-04T09:16:43.528504Z",
     "iopub.status.idle": "2023-09-04T09:16:48.383189Z",
     "shell.execute_reply": "2023-09-04T09:16:48.381798Z"
    },
    "papermill": {
     "duration": 4.869036,
     "end_time": "2023-09-04T09:16:48.386382",
     "exception": false,
     "start_time": "2023-09-04T09:16:43.517346",
     "status": "completed"
    },
    "tags": []
   },
   "outputs": [
    {
     "name": "stderr",
     "output_type": "stream",
     "text": [
      "/opt/conda/lib/python3.10/site-packages/torchvision/models/_utils.py:208: UserWarning: The parameter 'pretrained' is deprecated since 0.13 and may be removed in the future, please use 'weights' instead.\n",
      "  warnings.warn(\n",
      "/opt/conda/lib/python3.10/site-packages/torchvision/models/_utils.py:223: UserWarning: Arguments other than a weight enum or `None` for 'weights' are deprecated since 0.13 and may be removed in the future. The current behavior is equivalent to passing `weights=ResNet152_Weights.IMAGENET1K_V1`. You can also use `weights=ResNet152_Weights.DEFAULT` to get the most up-to-date weights.\n",
      "  warnings.warn(msg)\n",
      "Downloading: \"https://download.pytorch.org/models/resnet152-394f9c45.pth\" to /root/.cache/torch/hub/checkpoints/resnet152-394f9c45.pth\n",
      "100%|██████████| 230M/230M [00:03<00:00, 80.1MB/s]\n"
     ]
    }
   ],
   "source": [
    "base = models.resnet152(pretrained=True)\n",
    "\n",
    "# output for bowel and extravastaion\n",
    "out_be = nn.Sequential(\n",
    "    nn.Linear(base.fc.in_features, 512),\n",
    "    nn.ReLU(),\n",
    "    nn.Dropout(0.5),\n",
    "    nn.Linear(512, 1),\n",
    "    nn.Sigmoid() \n",
    ")\n",
    "\n",
    "# output for kidney, liver and spleen\n",
    "out_kls = nn.Sequential(\n",
    "    nn.Linear(base.fc.in_features, 512),\n",
    "    nn.ReLU(),\n",
    "    nn.Dropout(0.5),\n",
    "    nn.Linear(512, 3),\n",
    "    nn.Softmax(dim=1)\n",
    ")\n",
    "\n",
    "class Model(nn.Module):\n",
    "    def __init__(self, base, out_bowel, out_extravasation, out_kidney, out_liver, out_spleen):\n",
    "        super(Model, self).__init__()\n",
    "        self.base = base\n",
    "        self.out_bowel = out_bowel\n",
    "        self.out_extravasation = out_extravasation\n",
    "        self.out_kidney = out_kidney\n",
    "        self.out_liver = out_liver\n",
    "        self.out_spleen = out_spleen\n",
    "        \n",
    "    def forward(self, x):\n",
    "        x = self.base(x)\n",
    "        out_bowel = self.out_bowel(x)\n",
    "        out_extravasation = self.out_extravasation(x)\n",
    "        out_kidney = self.out_kidney(x)\n",
    "        out_liver = self.out_liver(x)\n",
    "        out_spleen = self.out_spleen(x)\n",
    "        \n",
    "        return out_bowel, out_extravasation, out_kidney, out_liver, out_spleen \n",
    "    \n",
    "model = Model(base, out_be, out_be, out_kls, out_kls, out_kls)"
   ]
  },
  {
   "cell_type": "code",
   "execution_count": 10,
   "id": "0ab409df",
   "metadata": {
    "execution": {
     "iopub.execute_input": "2023-09-04T09:16:48.414349Z",
     "iopub.status.busy": "2023-09-04T09:16:48.413877Z",
     "iopub.status.idle": "2023-09-04T09:16:48.441718Z",
     "shell.execute_reply": "2023-09-04T09:16:48.439955Z"
    },
    "papermill": {
     "duration": 0.046076,
     "end_time": "2023-09-04T09:16:48.445544",
     "exception": false,
     "start_time": "2023-09-04T09:16:48.399468",
     "status": "completed"
    },
    "tags": []
   },
   "outputs": [],
   "source": [
    "device = torch.device(\"cuda\" if torch.cuda.is_available() else \"cpu\")\n",
    "model.to(device)\n",
    "\n",
    "loss_be = nn.BCELoss()\n",
    "loss_kls = nn.CrossEntropyLoss()\n",
    "\n",
    "optimizer_bowel = torch.optim.Adam(out_be.parameters())\n",
    "optimizer_extravasation = torch.optim.Adam(out_be.parameters())\n",
    "optimizer_kidney = torch.optim.Adam(out_kls.parameters())\n",
    "optimizer_liver = torch.optim.Adam(out_kls.parameters())\n",
    "optimizer_spleen = torch.optim.Adam(out_kls.parameters())"
   ]
  },
  {
   "cell_type": "markdown",
   "id": "e4287c39",
   "metadata": {
    "papermill": {
     "duration": 0.012931,
     "end_time": "2023-09-04T09:16:48.472250",
     "exception": false,
     "start_time": "2023-09-04T09:16:48.459319",
     "status": "completed"
    },
    "tags": []
   },
   "source": [
    "## Training"
   ]
  },
  {
   "cell_type": "code",
   "execution_count": null,
   "id": "33c684a0",
   "metadata": {
    "papermill": {
     "duration": 0.012737,
     "end_time": "2023-09-04T09:16:48.497615",
     "exception": false,
     "start_time": "2023-09-04T09:16:48.484878",
     "status": "completed"
    },
    "tags": []
   },
   "outputs": [],
   "source": []
  }
 ],
 "kernelspec": {
  "display_name": "Python 3",
  "language": "python",
  "name": "python3"
 },
 "language_info": {
  "codemirror_mode": {
   "name": "ipython",
   "version": 3
  },
  "file_extension": ".py",
  "mimetype": "text/x-python",
  "name": "python",
  "nbconvert_exporter": "python",
  "pygments_lexer": "ipython3",
  "version": "3.6.4"
 },
 "metadata": {
  "kernelspec": {
   "display_name": "Python 3",
   "language": "python",
   "name": "python3"
  },
  "language_info": {
   "codemirror_mode": {
    "name": "ipython",
    "version": 3
   },
   "file_extension": ".py",
   "mimetype": "text/x-python",
   "name": "python",
   "nbconvert_exporter": "python",
   "pygments_lexer": "ipython3",
   "version": "3.10.12"
  },
  "papermill": {
   "default_parameters": {},
   "duration": 18.119506,
   "end_time": "2023-09-04T09:16:49.836701",
   "environment_variables": {},
   "exception": null,
   "input_path": "__notebook__.ipynb",
   "output_path": "__notebook__.ipynb",
   "parameters": {},
   "start_time": "2023-09-04T09:16:31.717195",
   "version": "2.4.0"
  }
 },
 "nbformat": 4,
 "nbformat_minor": 5
}
