{
 "cells": [
  {
   "cell_type": "code",
   "execution_count": 1,
   "outputs": [],
   "source": [
    "from sklearn.model_selection import RandomizedSearchCV, cross_val_score\n",
    "from sklearn.svm import SVR\n",
    "from scipy.stats import uniform, randint\n",
    "import pandas as pd\n",
    "import numpy as np"
   ],
   "metadata": {
    "collapsed": false,
    "ExecuteTime": {
     "end_time": "2023-08-09T08:08:58.193162700Z",
     "start_time": "2023-08-09T08:08:56.765818500Z"
    }
   }
  },
  {
   "cell_type": "code",
   "execution_count": 2,
   "outputs": [],
   "source": [
    "df = pd.read_csv('data/train_processed.csv')\n",
    "X_train, y_train = df.drop(columns=['SalePrice']), df['SalePrice']\n",
    "X_test = pd.read_csv('data/test-processed.csv')"
   ],
   "metadata": {
    "collapsed": false,
    "ExecuteTime": {
     "end_time": "2023-08-09T08:08:58.301692600Z",
     "start_time": "2023-08-09T08:08:58.194164Z"
    }
   }
  },
  {
   "cell_type": "code",
   "execution_count": null,
   "outputs": [],
   "source": [
    "params = {\n",
    "    'kernel': ['linear', 'poly', 'rbf', 'sigmoid'] ,\n",
    "    'degree': randint(1, 10),\n",
    "    'gamma': ['scale', 'auto'],\n",
    "    'C': uniform(0.1, 10)\n",
    "}\n",
    "svr = SVR()\n",
    "random_search = RandomizedSearchCV(\n",
    "    estimator=svr,\n",
    "    param_distributions=params,\n",
    "    n_iter=50,\n",
    "    scoring='neg_mean_squared_error',\n",
    "    cv=5\n",
    ")\n",
    "random_search.fit(X_train, y_train)"
   ],
   "metadata": {
    "collapsed": false,
    "is_executing": true,
    "ExecuteTime": {
     "start_time": "2023-08-09T08:08:58.304688700Z"
    }
   }
  },
  {
   "cell_type": "code",
   "execution_count": null,
   "outputs": [],
   "source": [
    "best_model = random_search.best_estimator_\n",
    "\n",
    "scores = cross_val_score(best_model, X_train, y_train, scoring='neg_mean_squared_error', cv=10)\n",
    "scores = np.sqrt(-scores)\n",
    "scores"
   ],
   "metadata": {
    "collapsed": false,
    "is_executing": true
   }
  },
  {
   "cell_type": "code",
   "execution_count": null,
   "outputs": [],
   "source": [
    "predictions = pd.DataFrame({'Id': X_test['Id'], 'SalePrice': best_model.predict(X_test)})\n",
    "predictions.set_index('Id', inplace=True)\n",
    "predictions.to_csv('data/predictions/svr.csv')"
   ],
   "metadata": {
    "collapsed": false,
    "is_executing": true
   }
  }
 ],
 "metadata": {
  "kernelspec": {
   "display_name": "Python 3",
   "language": "python",
   "name": "python3"
  },
  "language_info": {
   "codemirror_mode": {
    "name": "ipython",
    "version": 2
   },
   "file_extension": ".py",
   "mimetype": "text/x-python",
   "name": "python",
   "nbconvert_exporter": "python",
   "pygments_lexer": "ipython2",
   "version": "2.7.6"
  }
 },
 "nbformat": 4,
 "nbformat_minor": 0
}
